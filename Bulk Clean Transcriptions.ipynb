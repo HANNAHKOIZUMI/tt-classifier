{
 "cells": [
  {
   "cell_type": "markdown",
   "id": "ce3902e4-b0a0-4c69-a19e-13e65d9d83fe",
   "metadata": {},
   "source": [
    "# Pull Transcriptions"
   ]
  },
  {
   "cell_type": "code",
   "execution_count": 29,
   "id": "39659d23-da50-4952-b20b-565f97a9d28b",
   "metadata": {},
   "outputs": [],
   "source": [
    "import boto3\n",
    "import pandas as pd\n",
    "import json\n",
    "import os\n",
    "import sys\n",
    "from contextlib import contextmanager\n",
    "\n",
    "s3_client = boto3.client('s3', region_name='us-east-2')  \n",
    "bucket_name = 'sagemaker-studio-058264083825-bar3vvoeivv'  \n",
    "\n",
    "@contextmanager\n",
    "def suppress_stdout():\n",
    "    with open(os.devnull, 'w') as devnull:\n",
    "        old_stdout = sys.stdout\n",
    "        sys.stdout = devnull\n",
    "        try:\n",
    "            yield\n",
    "        finally:\n",
    "            sys.stdout = old_stdout\n",
    "\n",
    "def list_transcription_files(bucket_name, prefix=''):\n",
    "    try:\n",
    "        response = s3_client.list_objects_v2(Bucket=bucket_name, Prefix=prefix)\n",
    "        if 'Contents' in response:\n",
    "            return [obj['Key'] for obj in response['Contents'] if obj['Key'].endswith('.txt') or obj['Key'].endswith('.json')]\n",
    "    except Exception as e:\n",
    "        print(f\"Error listing files: {e}\")\n",
    "    return []\n",
    "\n",
    "def download_transcriptions(bucket_name, keys):\n",
    "    transcriptions = []\n",
    "    for key in keys:\n",
    "        try:\n",
    "            # Use the context manager to suppress prints\n",
    "            with suppress_stdout():\n",
    "                print(f\"Downloading {key}...\")\n",
    "                response = s3_client.get_object(Bucket=bucket_name, Key=key)\n",
    "                content = response['Body'].read().decode('utf-8')\n",
    "\n",
    "                # Debugging: print content to ensure it's correct\n",
    "                print(f\"Content of {key}:\")\n",
    "                print(content[:500])  # Print first 500 characters to verify\n",
    "\n",
    "            # If content is JSON, load and extract the transcription text\n",
    "            if key.endswith('.json'):\n",
    "                try:\n",
    "                    content_json = json.loads(content)\n",
    "                    if 'results' in content_json and 'transcripts' in content_json['results']:\n",
    "                        transcribed_text = content_json['results']['transcripts'][0]['transcript']\n",
    "                    else:\n",
    "                        transcribed_text = content  # Fallback to raw content if structure is unexpected\n",
    "                except json.JSONDecodeError as e:\n",
    "                    print(f\"Error decoding JSON for {key}: {e}\")\n",
    "                    transcribed_text = content  # Fallback to raw content\n",
    "            else:\n",
    "                transcribed_text = content\n",
    "\n",
    "            # Append the transcription to the list\n",
    "            transcriptions.append({'FileName': key, 'Transcription': transcribed_text})\n",
    "        \n",
    "        except Exception as e:\n",
    "            print(f\"Error downloading {key}: {e}\")\n",
    "    \n",
    "    return transcriptions\n",
    "\n",
    "with suppress_stdout():\n",
    "    transcription_keys = list_transcription_files(bucket_name)\n",
    "\n",
    "transcriptions = download_transcriptions(bucket_name, transcription_keys)\n",
    "df = pd.DataFrame(transcriptions)"
   ]
  },
  {
   "cell_type": "markdown",
   "id": "f103b9e8-6d52-4839-85cf-1be9de47d182",
   "metadata": {},
   "source": [
    "# Add Index to Match with Training Data Labels"
   ]
  },
  {
   "cell_type": "code",
   "execution_count": 20,
   "id": "0190dec1-b001-42a2-9580-f2d49792288a",
   "metadata": {},
   "outputs": [],
   "source": [
    "def extract_first_number(job_name):\n",
    "    return int(job_name.split('_')[0])\n",
    "\n",
    "df['Index'] = df['FileName'].apply(extract_first_number)"
   ]
  },
  {
   "cell_type": "markdown",
   "id": "5baeac3d-6589-48ec-9399-c989ff239358",
   "metadata": {},
   "source": [
    "# Add Data Labels"
   ]
  },
  {
   "cell_type": "code",
   "execution_count": 18,
   "id": "9f22c664-8416-4d8e-a7bc-2096cb48e8c5",
   "metadata": {},
   "outputs": [],
   "source": [
    "df1 = pd.read_csv('Train_Test Data - Sheet3 (1).csv')"
   ]
  },
  {
   "cell_type": "markdown",
   "id": "3aafc0c2-da16-41db-a842-00dc0acc40b2",
   "metadata": {},
   "source": [
    "# Merge Dataframes"
   ]
  },
  {
   "cell_type": "code",
   "execution_count": 22,
   "id": "53babb6f-c365-45a2-89ed-505de8c7395a",
   "metadata": {},
   "outputs": [],
   "source": [
    "df_merged = pd.merge(df1, df, on='Index', how='inner')"
   ]
  },
  {
   "cell_type": "code",
   "execution_count": 24,
   "id": "ecc997a3-e117-43a9-a848-a3009a836a40",
   "metadata": {},
   "outputs": [],
   "source": [
    "replacement_mapping = {'Anti - Biden': 1, 'Pro - Biden': 2, 'Neutral':0, 'Anti-Biden': 1, 'Pro-Biden': 2, 'Anti-biden': 1, 'anti-Biden': 1, 'Anti-Biden ': 1, 'Neutral ':0, 'Po-Biden': 2, 'Pro-biden': 2, 'Pro-Biden ': 2}\n",
    "df_final = df_merged.replace(replacement_mapping)"
   ]
  },
  {
   "cell_type": "code",
   "execution_count": 25,
   "id": "62e5da6b-0285-4dbf-ad3b-98d86775d6f9",
   "metadata": {},
   "outputs": [],
   "source": [
    "df_final['Label'] = df_final['Label'].astype(int)"
   ]
  },
  {
   "cell_type": "markdown",
   "id": "307f23e7-4f2d-4201-8fed-49741c7f4f50",
   "metadata": {},
   "source": [
    "# Export to CSV"
   ]
  },
  {
   "cell_type": "code",
   "execution_count": 28,
   "id": "e82efb91-85b5-4586-9bfa-6bd2204e57ba",
   "metadata": {},
   "outputs": [],
   "source": [
    "csv_filename = 'df_final.csv'\n",
    "df_final.to_csv(csv_filename, index=False)"
   ]
  }
 ],
 "metadata": {
  "kernelspec": {
   "display_name": "Python 3 (ipykernel)",
   "language": "python",
   "name": "python3"
  },
  "language_info": {
   "codemirror_mode": {
    "name": "ipython",
    "version": 3
   },
   "file_extension": ".py",
   "mimetype": "text/x-python",
   "name": "python",
   "nbconvert_exporter": "python",
   "pygments_lexer": "ipython3",
   "version": "3.10.14"
  }
 },
 "nbformat": 4,
 "nbformat_minor": 5
}
